{
 "cells": [
  {
   "cell_type": "code",
   "execution_count": 1,
   "metadata": {},
   "outputs": [],
   "source": [
    "import numpy as np\n",
    "from IPython.display import Image\n",
    "from IPython.core.display import HTML\n",
    "from pathlib import Path\n",
    "folder = Path('C:/Users/champ/Python_proj/ML_training_repo/Fundamentals/meta_data/')\n",
    "\n",
    "class Perceptron(object):\n",
    "\n",
    "    def __init__(self, no_of_inputs, threshold=100, learning_rate=0.01):\n",
    "        self.threshold = threshold\n",
    "        self.learning_rate = learning_rate\n",
    "        self.weights = np.zeros(no_of_inputs + 1)\n",
    "           \n",
    "    def predict(self, inputs):\n",
    "        summation = np.dot(inputs, self.weights[1:]) + self.weights[0]\n",
    "        if summation > 0:\n",
    "          activation = 1\n",
    "        else:\n",
    "          activation = 0            \n",
    "        return activation\n",
    "\n",
    "    def train(self, training_inputs, labels):\n",
    "        for _ in range(self.threshold):\n",
    "            for inputs, label in zip(training_inputs, labels):\n",
    "                prediction = self.predict(inputs)\n",
    "                self.weights[1:] += self.learning_rate * (label - prediction) * inputs\n",
    "                self.weights[0] += self.learning_rate * (label - prediction)"
   ]
  },
  {
   "cell_type": "code",
   "execution_count": 2,
   "metadata": {},
   "outputs": [
    {
     "data": {
      "image/png": "[encoded data removed]",
      "text/plain": [
       "<IPython.core.display.Image object>"
      ]
     },
     "execution_count": 2,
     "metadata": {
      "image/png": {
       "height": 800,
       "width": 800
      }
     },
     "output_type": "execute_result"
    }
   ],
   "source": [
    "'''\n",
    "To program a linear perceptron model this diagram I will use as my guide \n",
    "'''\n",
    "Image(filename = folder / \"Perceptron_diagram_detail4.png\", width=800, height=800)"
   ]
  },
  {
   "cell_type": "markdown",
   "metadata": {},
   "source": [
    "$\\begin{equation}\\;\\;General\\,Perceptron\\,model\\;=:f(x)=\\left\\{\\begin{matrix}\n",
    "1 & if \\, w\\cdot x > 0\\\\ 0 &\\, otherwise \\end{matrix}\\right.\\end{equation}$"
   ]
  },
  {
   "cell_type": "code",
   "execution_count": 90,
   "metadata": {},
   "outputs": [
    {
     "name": "stdout",
     "output_type": "stream",
     "text": [
      "-0.9171929562569725 -0.22254057968251678\n",
      "[[-0.93526545  0.08481933]\n",
      " [ 0.60583922 -0.88968119]\n",
      " [-0.23547045 -0.57805882]\n",
      " [ 0.70470288 -0.76285736]\n",
      " [-0.97476387 -0.76369724]\n",
      " [-0.45142148  0.79905572]\n",
      " [-0.54373691  0.97818468]\n",
      " [-0.83648775 -0.39845106]\n",
      " [ 0.84283001  0.97481966]\n",
      " [-0.89760555 -0.79300552]] [-1 -1 -1  1 -1  1  1 -1  1 -1]\n"
     ]
    }
   ],
   "source": [
    "def update_weights():\n",
    "    '''\n",
    "    This updates the weights in a linear perceptron\n",
    "    '''\n",
    "def perceived_value():\n",
    "    '''\n",
    "    This function obtains the perceptron f(x) value\n",
    "    '''\n",
    "def generate_data(N, line_coef, line_intercept, random2_seed, random2_seed_nr):\n",
    "    '''\n",
    "    Generate random data given number of points, a line coefficient and intercept. \n",
    "    Generated points will be in +1/-1 class regarding their relative position to the line.\n",
    "    \n",
    "    Inputs:\n",
    "    - N: number of points to be generated\n",
    "    - line_coef: line's coefficient\n",
    "    - line_intercept: line's intercept\n",
    "    \n",
    "    Outputs: a tuple of 2 variables:\n",
    "    - X: positions of generated points\n",
    "    - y: classes of points (+1/-1)\n",
    "    '''\n",
    "    if random2_seed:\n",
    "        r = np.random.RandomState(random2_seed_nr)\n",
    "        X = r.uniform(-1, 1, [N, 2])\n",
    "    else:\n",
    "        X = np.random.uniform(-1, 1, [N, 2])\n",
    "    \n",
    "    y = X[:, 1] - X[:, 0] * line_coef - line_intercept >= 0\n",
    "    y = np.where(y, 1, -1)\n",
    "    if np.abs(np.sum(y)) == len(y):\n",
    "        X, y = generate_data(N, line_coef, line_intercept)\n",
    "    return X, y\n",
    "\n",
    "def classifies_data(x_min,x_max, dimension, random_seed, random_seed_nr):\n",
    "    \"\"\"\n",
    "    Generate a random line with corresponding coefficient and intercept\n",
    "    \"\"\"\n",
    "    if random_seed:\n",
    "        r = np.random.RandomState(random_seed_nr)\n",
    "        line_points = r.uniform(x_min, x_max, [dimension, dimension])\n",
    "    else:\n",
    "        line_points = np.random.uniform(x_min, x_max, [dimension, dimension])\n",
    "    line_coef = (line_points[1,1] - line_points[0, 1])/(line_points[1,0] - line_points[0, 0]) # the slope m = (y1-y0)/(x1-x0)\n",
    "    line_intercept = line_points[0,1] - line_coef*line_points[0,0]  # the slope m = (y1-y0)/(x1-x0)\n",
    "    return line_coef, line_intercept\n",
    "\n",
    "coef, intercept = classifies_data(x_min = -1, x_max = 1, dimension = 2, random_seed = False, random_seed_nr = 600)\n",
    "print(coef, intercept)\n",
    "X_train, y_train = generate_data(10, coef, intercept, random2_seed = True, random2_seed_nr = 600)\n",
    "print(X_train, y_train)"
   ]
  },
  {
   "cell_type": "code",
   "execution_count": 4,
   "metadata": {},
   "outputs": [
    {
     "ename": "NameError",
     "evalue": "name 'r' is not defined",
     "output_type": "error",
     "traceback": [
      "\u001b[1;31m---------------------------------------------------------------------------\u001b[0m",
      "\u001b[1;31mNameError\u001b[0m                                 Traceback (most recent call last)",
      "\u001b[1;32m<ipython-input-4-7b79721c4247>\u001b[0m in \u001b[0;36m<module>\u001b[1;34m\u001b[0m\n\u001b[1;32m----> 1\u001b[1;33m \u001b[0mr\u001b[0m\u001b[1;33m.\u001b[0m\u001b[0mget_state\u001b[0m\u001b[1;33m(\u001b[0m\u001b[1;33m)\u001b[0m\u001b[1;33m\u001b[0m\u001b[1;33m\u001b[0m\u001b[0m\n\u001b[0m",
      "\u001b[1;31mNameError\u001b[0m: name 'r' is not defined"
     ]
    }
   ],
   "source": [
    "r.get_state()"
   ]
  }
 ],
 "metadata": {
  "kernelspec": {
   "display_name": "main_env",
   "language": "python",
   "name": "main_env"
  },
  "language_info": {
   "codemirror_mode": {
    "name": "ipython",
    "version": 3
   },
   "file_extension": ".py",
   "mimetype": "text/x-python",
   "name": "python",
   "nbconvert_exporter": "python",
   "pygments_lexer": "ipython3",
   "version": "3.8.2"
  },
  "widgets": {
   "application/vnd.jupyter.widget-state+json": {
    "state": {},
    "version_major": 2,
    "version_minor": 0
   }
  }
 },
 "nbformat": 4,
 "nbformat_minor": 4
}
